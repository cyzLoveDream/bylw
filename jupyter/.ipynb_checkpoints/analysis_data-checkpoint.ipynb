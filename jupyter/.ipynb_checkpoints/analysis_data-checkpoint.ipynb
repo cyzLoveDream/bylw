{
 "cells": [
  {
   "cell_type": "code",
   "execution_count": 10,
   "metadata": {
    "collapsed": true
   },
   "outputs": [],
   "source": [
    "import pandas as pd\n",
    "import numpy as np\n",
    "from cpca import *\n",
    "%matplotlib inline"
   ]
  },
  {
   "cell_type": "code",
   "execution_count": 3,
   "metadata": {
    "collapsed": true
   },
   "outputs": [],
   "source": [
    "d = []\n",
    "with open(\"../raw_data/DATA_T_RESULT.txt\",\"r\",encoding=\"utf-8\") as fs:\n",
    "    lines = fs.readlines()\n",
    "    for line in lines:\n",
    "        d.append(eval(str(line)))\n",
    "pd_data = pd.DataFrame()\n",
    "for i in d:\n",
    "    i_pd = pd.DataFrame(i.get(\"entities\"))\n",
    "    pd_data = pd.concat([pd_data, i_pd],axis=0,ignore_index=True)"
   ]
  },
  {
   "cell_type": "code",
   "execution_count": 6,
   "metadata": {
    "collapsed": false
   },
   "outputs": [
    {
     "data": {
      "text/html": [
       "<div>\n",
       "<style scoped>\n",
       "    .dataframe tbody tr th:only-of-type {\n",
       "        vertical-align: middle;\n",
       "    }\n",
       "\n",
       "    .dataframe tbody tr th {\n",
       "        vertical-align: top;\n",
       "    }\n",
       "\n",
       "    .dataframe thead th {\n",
       "        text-align: right;\n",
       "    }\n",
       "</style>\n",
       "<table border=\"1\" class=\"dataframe\">\n",
       "  <thead>\n",
       "    <tr style=\"text-align: right;\">\n",
       "      <th></th>\n",
       "      <th>digest</th>\n",
       "      <th>eventLevel</th>\n",
       "      <th>keywords</th>\n",
       "      <th>name</th>\n",
       "    </tr>\n",
       "  </thead>\n",
       "  <tbody>\n",
       "    <tr>\n",
       "      <th>0</th>\n",
       "      <td>上海市食品药品监督管理局抽检8大类食品，抽检样品共计1107批次，其中合格1103批次、不合...</td>\n",
       "      <td>中性</td>\n",
       "      <td></td>\n",
       "      <td>上海市食品药品监督管理局</td>\n",
       "    </tr>\n",
       "    <tr>\n",
       "      <th>1</th>\n",
       "      <td>中国质量新闻网讯 据成都市工商行政管理局官网发布的2017年二季度学生用品质量抽检结果，“金...</td>\n",
       "      <td>负向</td>\n",
       "      <td></td>\n",
       "      <td>汕头市潮南区峡山万年星文具厂</td>\n",
       "    </tr>\n",
       "    <tr>\n",
       "      <th>2</th>\n",
       "      <td>中国质量新闻网讯 据成都市工商行政管理局官网发布的2017年二季度学生用品质量抽检结果，“金...</td>\n",
       "      <td>负向</td>\n",
       "      <td></td>\n",
       "      <td>浙江金丝猴文具有限公司</td>\n",
       "    </tr>\n",
       "    <tr>\n",
       "      <th>3</th>\n",
       "      <td>中国网财经8月2日讯 唐山市食品药品监督管理局官网近日发布关于河北省食品安全监督抽检(唐...</td>\n",
       "      <td>负向</td>\n",
       "      <td></td>\n",
       "      <td>唐山乡伊香生态农业开发有限公司</td>\n",
       "    </tr>\n",
       "    <tr>\n",
       "      <th>4</th>\n",
       "      <td>中国网财经8月2日讯 唐山市食品药品监督管理局官网近日发布关于河北省食品安全监督抽检信息的公...</td>\n",
       "      <td>中性</td>\n",
       "      <td></td>\n",
       "      <td>唐山市食品药品监督管理局</td>\n",
       "    </tr>\n",
       "  </tbody>\n",
       "</table>\n",
       "</div>"
      ],
      "text/plain": [
       "                                              digest eventLevel keywords  \\\n",
       "0  上海市食品药品监督管理局抽检8大类食品，抽检样品共计1107批次，其中合格1103批次、不合...         中性            \n",
       "1  中国质量新闻网讯 据成都市工商行政管理局官网发布的2017年二季度学生用品质量抽检结果，“金...         负向            \n",
       "2  中国质量新闻网讯 据成都市工商行政管理局官网发布的2017年二季度学生用品质量抽检结果，“金...         负向            \n",
       "3  　　中国网财经8月2日讯 唐山市食品药品监督管理局官网近日发布关于河北省食品安全监督抽检(唐...         负向            \n",
       "4  中国网财经8月2日讯 唐山市食品药品监督管理局官网近日发布关于河北省食品安全监督抽检信息的公...         中性            \n",
       "\n",
       "              name  \n",
       "0     上海市食品药品监督管理局  \n",
       "1   汕头市潮南区峡山万年星文具厂  \n",
       "2      浙江金丝猴文具有限公司  \n",
       "3  唐山乡伊香生态农业开发有限公司  \n",
       "4     唐山市食品药品监督管理局  "
      ]
     },
     "execution_count": 6,
     "metadata": {},
     "output_type": "execute_result"
    }
   ],
   "source": [
    "pd_data.head()"
   ]
  },
  {
   "cell_type": "code",
   "execution_count": 8,
   "metadata": {
    "collapsed": false
   },
   "outputs": [],
   "source": [
    "names_list = pd_data[\"name\"].tolist()"
   ]
  },
  {
   "cell_type": "code",
   "execution_count": 11,
   "metadata": {
    "collapsed": false
   },
   "outputs": [
    {
     "name": "stderr",
     "output_type": "stream",
     "text": [
      "WARNING:root:建议添加到umap中的区有：{'西安区', '和平区', '东山区', '清河区', '新华区', '鼓楼区', '城关区', '市中区', '城区', '郊区', '矿区'},有多个市含有相同名称的区\n"
     ]
    }
   ],
   "source": [
    "df = transform(names_list,cut=False)"
   ]
  },
  {
   "cell_type": "code",
   "execution_count": 13,
   "metadata": {
    "collapsed": false
   },
   "outputs": [
    {
     "data": {
      "text/html": [
       "<div>\n",
       "<style scoped>\n",
       "    .dataframe tbody tr th:only-of-type {\n",
       "        vertical-align: middle;\n",
       "    }\n",
       "\n",
       "    .dataframe tbody tr th {\n",
       "        vertical-align: top;\n",
       "    }\n",
       "\n",
       "    .dataframe thead th {\n",
       "        text-align: right;\n",
       "    }\n",
       "</style>\n",
       "<table border=\"1\" class=\"dataframe\">\n",
       "  <thead>\n",
       "    <tr style=\"text-align: right;\">\n",
       "      <th></th>\n",
       "      <th>区</th>\n",
       "      <th>市</th>\n",
       "      <th>省</th>\n",
       "      <th>地址</th>\n",
       "    </tr>\n",
       "  </thead>\n",
       "  <tbody>\n",
       "    <tr>\n",
       "      <th>0</th>\n",
       "      <td></td>\n",
       "      <td>上海市</td>\n",
       "      <td>上海市</td>\n",
       "      <td>食品药品监督管理局</td>\n",
       "    </tr>\n",
       "    <tr>\n",
       "      <th>1</th>\n",
       "      <td>潮南区</td>\n",
       "      <td>汕头市</td>\n",
       "      <td>广东省</td>\n",
       "      <td>峡山万年星文具厂</td>\n",
       "    </tr>\n",
       "    <tr>\n",
       "      <th>2</th>\n",
       "      <td></td>\n",
       "      <td></td>\n",
       "      <td>浙江省</td>\n",
       "      <td>金丝猴文具有限公司</td>\n",
       "    </tr>\n",
       "    <tr>\n",
       "      <th>3</th>\n",
       "      <td></td>\n",
       "      <td>唐山市</td>\n",
       "      <td>河北省</td>\n",
       "      <td>乡伊香生态农业开发有限公司</td>\n",
       "    </tr>\n",
       "    <tr>\n",
       "      <th>4</th>\n",
       "      <td></td>\n",
       "      <td>唐山市</td>\n",
       "      <td>河北省</td>\n",
       "      <td>食品药品监督管理局</td>\n",
       "    </tr>\n",
       "  </tbody>\n",
       "</table>\n",
       "</div>"
      ],
      "text/plain": [
       "     区    市    省             地址\n",
       "0       上海市  上海市      食品药品监督管理局\n",
       "1  潮南区  汕头市  广东省       峡山万年星文具厂\n",
       "2            浙江省      金丝猴文具有限公司\n",
       "3       唐山市  河北省  乡伊香生态农业开发有限公司\n",
       "4       唐山市  河北省      食品药品监督管理局"
      ]
     },
     "execution_count": 13,
     "metadata": {},
     "output_type": "execute_result"
    }
   ],
   "source": [
    "df.head()"
   ]
  },
  {
   "cell_type": "code",
   "execution_count": 86,
   "metadata": {
    "collapsed": true
   },
   "outputs": [],
   "source": [
    "df.replace(\"\",\"无法确定\",inplace=True)\n",
    "df.replace(\"内蒙古\",\"内蒙古自治区\",inplace=True)\n",
    "df.replace(\"新疆维吾尔自治区\",\"新疆维吾尔族自治区\",inplace=True)"
   ]
  },
  {
   "cell_type": "code",
   "execution_count": 15,
   "metadata": {
    "collapsed": false
   },
   "outputs": [],
   "source": [
    "from cpca_drawers import *\n",
    "draw_locations(df, \"df.html\")"
   ]
  },
  {
   "cell_type": "code",
   "execution_count": 87,
   "metadata": {
    "collapsed": false
   },
   "outputs": [],
   "source": [
    "plot_df = df.groupby(\"省\").count().reset_index()"
   ]
  },
  {
   "cell_type": "code",
   "execution_count": 88,
   "metadata": {
    "collapsed": false
   },
   "outputs": [],
   "source": [
    "plot_df[\"count\"] = plot_df[\"区\"]"
   ]
  },
  {
   "cell_type": "code",
   "execution_count": 78,
   "metadata": {
    "collapsed": false
   },
   "outputs": [],
   "source": [
    "mp = {\"上海市\": \"华东\",\"江苏省\":\"华东\",\"浙江省\":\"华东\",\"安徽省\":\"华东\",\"福建省\":\"华东\",\"江西省\":\"华东\",\"山东省\":\"华东\",\"台湾省\":\"华东\",\n",
    "     \"广东省\":\"华南\",\"广西省\":\"华南\",\"海南省\":\"华南\",\"香港\":\"华南\",\"澳门特区\":\"华南\",\"广西壮族自治区\":\"华南\",\n",
    "     \"河北省\":\"华北\",\"山西省\":\"华北\",\"北京市\":\"华北\",\"天津市\":\"华北\",\"内蒙古\":\"华北\",\"内蒙古自治区\":\"华北\",\n",
    "     \"湖北省\":\"华中\",\"湖南省\":\"华中\",\"河南省\":\"华中\",\n",
    "     \"辽宁省\":\"东北\",\"吉林省\":\"东北\",\"黑龙江省\":\"东北\",\n",
    "     \"四川省\":\"西南\",\"云南省\":\"西南\",\"贵州省\":\"西南\",\"重庆市\":\"西南\",\"西藏自治区\":\"西南\",\n",
    "     \"宁夏回族自治区\":\"西北\",\"新疆维吾尔族自治区\":\"西北\",\"新疆维吾尔自治区\":\"西北\",\"青海省\":\"西北\",\"陕西省\":\"西北\",\"甘肃省\":\"西北\",\n",
    "     \"无法确定\":\"无法确定\"}"
   ]
  },
  {
   "cell_type": "code",
   "execution_count": 89,
   "metadata": {
    "collapsed": false
   },
   "outputs": [
    {
     "data": {
      "text/html": [
       "<div>\n",
       "<style scoped>\n",
       "    .dataframe tbody tr th:only-of-type {\n",
       "        vertical-align: middle;\n",
       "    }\n",
       "\n",
       "    .dataframe tbody tr th {\n",
       "        vertical-align: top;\n",
       "    }\n",
       "\n",
       "    .dataframe thead th {\n",
       "        text-align: right;\n",
       "    }\n",
       "</style>\n",
       "<table border=\"1\" class=\"dataframe\">\n",
       "  <thead>\n",
       "    <tr style=\"text-align: right;\">\n",
       "      <th></th>\n",
       "      <th>省</th>\n",
       "      <th>区</th>\n",
       "      <th>市</th>\n",
       "      <th>地址</th>\n",
       "      <th>count</th>\n",
       "    </tr>\n",
       "  </thead>\n",
       "  <tbody>\n",
       "    <tr>\n",
       "      <th>0</th>\n",
       "      <td>上海市</td>\n",
       "      <td>577</td>\n",
       "      <td>577</td>\n",
       "      <td>577</td>\n",
       "      <td>577</td>\n",
       "    </tr>\n",
       "    <tr>\n",
       "      <th>1</th>\n",
       "      <td>云南省</td>\n",
       "      <td>436</td>\n",
       "      <td>436</td>\n",
       "      <td>436</td>\n",
       "      <td>436</td>\n",
       "    </tr>\n",
       "    <tr>\n",
       "      <th>2</th>\n",
       "      <td>内蒙古自治区</td>\n",
       "      <td>139</td>\n",
       "      <td>139</td>\n",
       "      <td>139</td>\n",
       "      <td>139</td>\n",
       "    </tr>\n",
       "    <tr>\n",
       "      <th>3</th>\n",
       "      <td>北京市</td>\n",
       "      <td>255</td>\n",
       "      <td>255</td>\n",
       "      <td>255</td>\n",
       "      <td>255</td>\n",
       "    </tr>\n",
       "    <tr>\n",
       "      <th>4</th>\n",
       "      <td>吉林省</td>\n",
       "      <td>326</td>\n",
       "      <td>326</td>\n",
       "      <td>326</td>\n",
       "      <td>326</td>\n",
       "    </tr>\n",
       "    <tr>\n",
       "      <th>5</th>\n",
       "      <td>四川省</td>\n",
       "      <td>499</td>\n",
       "      <td>499</td>\n",
       "      <td>499</td>\n",
       "      <td>499</td>\n",
       "    </tr>\n",
       "    <tr>\n",
       "      <th>6</th>\n",
       "      <td>天津市</td>\n",
       "      <td>395</td>\n",
       "      <td>395</td>\n",
       "      <td>395</td>\n",
       "      <td>395</td>\n",
       "    </tr>\n",
       "    <tr>\n",
       "      <th>7</th>\n",
       "      <td>宁夏回族自治区</td>\n",
       "      <td>138</td>\n",
       "      <td>138</td>\n",
       "      <td>138</td>\n",
       "      <td>138</td>\n",
       "    </tr>\n",
       "    <tr>\n",
       "      <th>8</th>\n",
       "      <td>安徽省</td>\n",
       "      <td>645</td>\n",
       "      <td>645</td>\n",
       "      <td>645</td>\n",
       "      <td>645</td>\n",
       "    </tr>\n",
       "    <tr>\n",
       "      <th>9</th>\n",
       "      <td>山东省</td>\n",
       "      <td>1460</td>\n",
       "      <td>1460</td>\n",
       "      <td>1460</td>\n",
       "      <td>1460</td>\n",
       "    </tr>\n",
       "    <tr>\n",
       "      <th>10</th>\n",
       "      <td>山西省</td>\n",
       "      <td>564</td>\n",
       "      <td>564</td>\n",
       "      <td>564</td>\n",
       "      <td>564</td>\n",
       "    </tr>\n",
       "    <tr>\n",
       "      <th>11</th>\n",
       "      <td>广东省</td>\n",
       "      <td>718</td>\n",
       "      <td>718</td>\n",
       "      <td>718</td>\n",
       "      <td>718</td>\n",
       "    </tr>\n",
       "    <tr>\n",
       "      <th>12</th>\n",
       "      <td>广西壮族自治区</td>\n",
       "      <td>247</td>\n",
       "      <td>247</td>\n",
       "      <td>247</td>\n",
       "      <td>247</td>\n",
       "    </tr>\n",
       "    <tr>\n",
       "      <th>13</th>\n",
       "      <td>新疆维吾尔族自治区</td>\n",
       "      <td>143</td>\n",
       "      <td>143</td>\n",
       "      <td>143</td>\n",
       "      <td>143</td>\n",
       "    </tr>\n",
       "    <tr>\n",
       "      <th>14</th>\n",
       "      <td>无法确定</td>\n",
       "      <td>1965</td>\n",
       "      <td>1965</td>\n",
       "      <td>1965</td>\n",
       "      <td>1965</td>\n",
       "    </tr>\n",
       "    <tr>\n",
       "      <th>15</th>\n",
       "      <td>江苏省</td>\n",
       "      <td>949</td>\n",
       "      <td>949</td>\n",
       "      <td>949</td>\n",
       "      <td>949</td>\n",
       "    </tr>\n",
       "    <tr>\n",
       "      <th>16</th>\n",
       "      <td>江西省</td>\n",
       "      <td>173</td>\n",
       "      <td>173</td>\n",
       "      <td>173</td>\n",
       "      <td>173</td>\n",
       "    </tr>\n",
       "    <tr>\n",
       "      <th>17</th>\n",
       "      <td>河北省</td>\n",
       "      <td>274</td>\n",
       "      <td>274</td>\n",
       "      <td>274</td>\n",
       "      <td>274</td>\n",
       "    </tr>\n",
       "    <tr>\n",
       "      <th>18</th>\n",
       "      <td>河南省</td>\n",
       "      <td>344</td>\n",
       "      <td>344</td>\n",
       "      <td>344</td>\n",
       "      <td>344</td>\n",
       "    </tr>\n",
       "    <tr>\n",
       "      <th>19</th>\n",
       "      <td>浙江省</td>\n",
       "      <td>826</td>\n",
       "      <td>826</td>\n",
       "      <td>826</td>\n",
       "      <td>826</td>\n",
       "    </tr>\n",
       "    <tr>\n",
       "      <th>20</th>\n",
       "      <td>海南省</td>\n",
       "      <td>13</td>\n",
       "      <td>13</td>\n",
       "      <td>13</td>\n",
       "      <td>13</td>\n",
       "    </tr>\n",
       "    <tr>\n",
       "      <th>21</th>\n",
       "      <td>湖北省</td>\n",
       "      <td>460</td>\n",
       "      <td>460</td>\n",
       "      <td>460</td>\n",
       "      <td>460</td>\n",
       "    </tr>\n",
       "    <tr>\n",
       "      <th>22</th>\n",
       "      <td>湖南省</td>\n",
       "      <td>263</td>\n",
       "      <td>263</td>\n",
       "      <td>263</td>\n",
       "      <td>263</td>\n",
       "    </tr>\n",
       "    <tr>\n",
       "      <th>23</th>\n",
       "      <td>甘肃省</td>\n",
       "      <td>423</td>\n",
       "      <td>423</td>\n",
       "      <td>423</td>\n",
       "      <td>423</td>\n",
       "    </tr>\n",
       "    <tr>\n",
       "      <th>24</th>\n",
       "      <td>福建省</td>\n",
       "      <td>383</td>\n",
       "      <td>383</td>\n",
       "      <td>383</td>\n",
       "      <td>383</td>\n",
       "    </tr>\n",
       "    <tr>\n",
       "      <th>25</th>\n",
       "      <td>西藏自治区</td>\n",
       "      <td>8</td>\n",
       "      <td>8</td>\n",
       "      <td>8</td>\n",
       "      <td>8</td>\n",
       "    </tr>\n",
       "    <tr>\n",
       "      <th>26</th>\n",
       "      <td>贵州省</td>\n",
       "      <td>237</td>\n",
       "      <td>237</td>\n",
       "      <td>237</td>\n",
       "      <td>237</td>\n",
       "    </tr>\n",
       "    <tr>\n",
       "      <th>27</th>\n",
       "      <td>辽宁省</td>\n",
       "      <td>446</td>\n",
       "      <td>446</td>\n",
       "      <td>446</td>\n",
       "      <td>446</td>\n",
       "    </tr>\n",
       "    <tr>\n",
       "      <th>28</th>\n",
       "      <td>重庆市</td>\n",
       "      <td>93</td>\n",
       "      <td>93</td>\n",
       "      <td>93</td>\n",
       "      <td>93</td>\n",
       "    </tr>\n",
       "    <tr>\n",
       "      <th>29</th>\n",
       "      <td>陕西省</td>\n",
       "      <td>341</td>\n",
       "      <td>341</td>\n",
       "      <td>341</td>\n",
       "      <td>341</td>\n",
       "    </tr>\n",
       "    <tr>\n",
       "      <th>30</th>\n",
       "      <td>青海省</td>\n",
       "      <td>58</td>\n",
       "      <td>58</td>\n",
       "      <td>58</td>\n",
       "      <td>58</td>\n",
       "    </tr>\n",
       "    <tr>\n",
       "      <th>31</th>\n",
       "      <td>香港</td>\n",
       "      <td>1</td>\n",
       "      <td>1</td>\n",
       "      <td>1</td>\n",
       "      <td>1</td>\n",
       "    </tr>\n",
       "    <tr>\n",
       "      <th>32</th>\n",
       "      <td>黑龙江省</td>\n",
       "      <td>342</td>\n",
       "      <td>342</td>\n",
       "      <td>342</td>\n",
       "      <td>342</td>\n",
       "    </tr>\n",
       "  </tbody>\n",
       "</table>\n",
       "</div>"
      ],
      "text/plain": [
       "            省     区     市    地址  count\n",
       "0         上海市   577   577   577    577\n",
       "1         云南省   436   436   436    436\n",
       "2      内蒙古自治区   139   139   139    139\n",
       "3         北京市   255   255   255    255\n",
       "4         吉林省   326   326   326    326\n",
       "5         四川省   499   499   499    499\n",
       "6         天津市   395   395   395    395\n",
       "7     宁夏回族自治区   138   138   138    138\n",
       "8         安徽省   645   645   645    645\n",
       "9         山东省  1460  1460  1460   1460\n",
       "10        山西省   564   564   564    564\n",
       "11        广东省   718   718   718    718\n",
       "12    广西壮族自治区   247   247   247    247\n",
       "13  新疆维吾尔族自治区   143   143   143    143\n",
       "14       无法确定  1965  1965  1965   1965\n",
       "15        江苏省   949   949   949    949\n",
       "16        江西省   173   173   173    173\n",
       "17        河北省   274   274   274    274\n",
       "18        河南省   344   344   344    344\n",
       "19        浙江省   826   826   826    826\n",
       "20        海南省    13    13    13     13\n",
       "21        湖北省   460   460   460    460\n",
       "22        湖南省   263   263   263    263\n",
       "23        甘肃省   423   423   423    423\n",
       "24        福建省   383   383   383    383\n",
       "25      西藏自治区     8     8     8      8\n",
       "26        贵州省   237   237   237    237\n",
       "27        辽宁省   446   446   446    446\n",
       "28        重庆市    93    93    93     93\n",
       "29        陕西省   341   341   341    341\n",
       "30        青海省    58    58    58     58\n",
       "31         香港     1     1     1      1\n",
       "32       黑龙江省   342   342   342    342"
      ]
     },
     "execution_count": 89,
     "metadata": {},
     "output_type": "execute_result"
    }
   ],
   "source": [
    "plot_df"
   ]
  },
  {
   "cell_type": "code",
   "execution_count": 79,
   "metadata": {
    "collapsed": true
   },
   "outputs": [],
   "source": [
    "plot_df[\"地理区\"] = plot_df[\"省\"].apply(lambda x: mp.get(x))"
   ]
  },
  {
   "cell_type": "code",
   "execution_count": 81,
   "metadata": {
    "collapsed": false
   },
   "outputs": [],
   "source": [
    "pd_plot_df = plot_df[[\"地理区\",\"count\"]].groupby(\"地理区\").sum().reset_index()"
   ]
  },
  {
   "cell_type": "code",
   "execution_count": 85,
   "metadata": {
    "collapsed": false
   },
   "outputs": [
    {
     "data": {
      "text/plain": [
       "<matplotlib.axes._subplots.AxesSubplot at 0x20efa024c88>"
      ]
     },
     "execution_count": 85,
     "metadata": {},
     "output_type": "execute_result"
    },
    {
     "data": {
      "image/png": "[encoded data removed]",
      "text/plain": [
       "<matplotlib.figure.Figure at 0x20ef9fefd30>"
      ]
     },
     "metadata": {},
     "output_type": "display_data"
    }
   ],
   "source": [
    "pd_plot_df.plot(x=\"地理区\",y=\"count\",kind=\"bar\",title=\"数据集中所涉及公司在全国范围上的地理区分布\")"
   ]
  },
  {
   "cell_type": "code",
   "execution_count": 52,
   "metadata": {
    "collapsed": false
   },
   "outputs": [],
   "source": [
    "#DataFrame来绘制我们的单词向量\n",
    "import matplotlib\n",
    "import matplotlib.pyplot as plt\n",
    "import seaborn as sns\n",
    "from pylab import mpl\n",
    "mpl.rcParams['font.sans-serif'] = ['SimHei']  # 指定默认字体：解决plot不能显示中文问题,否则会显示成方块\n",
    "mpl.rcParams['axes.unicode_minus'] = False  # 解决保存图像是负号'-'显示为方块的问题"
   ]
  },
  {
   "cell_type": "code",
   "execution_count": 90,
   "metadata": {
    "collapsed": false
   },
   "outputs": [
    {
     "data": {
      "text/plain": [
       "<matplotlib.axes._subplots.AxesSubplot at 0x20efa0414e0>"
      ]
     },
     "execution_count": 90,
     "metadata": {},
     "output_type": "execute_result"
    },
    {
     "data": {
      "image/png": "[encoded data removed]",
      "text/plain": [
       "<matplotlib.figure.Figure at 0x20efa093f98>"
      ]
     },
     "metadata": {},
     "output_type": "display_data"
    }
   ],
   "source": [
    "plot_df.plot(x=\"省\",y=\"count\",kind=\"bar\",title=\"数据集中所涉及公司在全国范围内省份分布情况\")"
   ]
  },
  {
   "cell_type": "code",
   "execution_count": 64,
   "metadata": {
    "collapsed": false
   },
   "outputs": [],
   "source": [
    "sentiment_data = pd_data.groupby(\"eventLevel\").count().reset_index()\n",
    "sentiment_data[\"count\"] = sentiment_data[\"name\"]\n",
    "sentiment_data[\"plority\"] = sentiment_data[\"eventLevel\"]\n",
    "sentiment_data = sentiment_data[[\"plority\",\"count\"]]"
   ]
  },
  {
   "cell_type": "code",
   "execution_count": 65,
   "metadata": {
    "collapsed": false
   },
   "outputs": [
    {
     "data": {
      "text/html": [
       "<div>\n",
       "<style scoped>\n",
       "    .dataframe tbody tr th:only-of-type {\n",
       "        vertical-align: middle;\n",
       "    }\n",
       "\n",
       "    .dataframe tbody tr th {\n",
       "        vertical-align: top;\n",
       "    }\n",
       "\n",
       "    .dataframe thead th {\n",
       "        text-align: right;\n",
       "    }\n",
       "</style>\n",
       "<table border=\"1\" class=\"dataframe\">\n",
       "  <thead>\n",
       "    <tr style=\"text-align: right;\">\n",
       "      <th></th>\n",
       "      <th>plority</th>\n",
       "      <th>count</th>\n",
       "    </tr>\n",
       "  </thead>\n",
       "  <tbody>\n",
       "    <tr>\n",
       "      <th>0</th>\n",
       "      <td>中性</td>\n",
       "      <td>2698</td>\n",
       "    </tr>\n",
       "    <tr>\n",
       "      <th>1</th>\n",
       "      <td>正向</td>\n",
       "      <td>4776</td>\n",
       "    </tr>\n",
       "    <tr>\n",
       "      <th>2</th>\n",
       "      <td>负向</td>\n",
       "      <td>6667</td>\n",
       "    </tr>\n",
       "  </tbody>\n",
       "</table>\n",
       "</div>"
      ],
      "text/plain": [
       "  plority  count\n",
       "0      中性   2698\n",
       "1      正向   4776\n",
       "2      负向   6667"
      ]
     },
     "execution_count": 65,
     "metadata": {},
     "output_type": "execute_result"
    }
   ],
   "source": [
    "sentiment_data"
   ]
  },
  {
   "cell_type": "code",
   "execution_count": 67,
   "metadata": {
    "collapsed": false
   },
   "outputs": [
    {
     "data": {
      "text/plain": [
       "<matplotlib.axes._subplots.AxesSubplot at 0x20ef9da9be0>"
      ]
     },
     "execution_count": 67,
     "metadata": {},
     "output_type": "execute_result"
    },
    {
     "data": {
      "image/png": "[encoded data removed]",
      "text/plain": [
       "<matplotlib.figure.Figure at 0x20ef9d85f28>"
      ]
     },
     "metadata": {},
     "output_type": "display_data"
    }
   ],
   "source": [
    "sentiment_data.plot(x=\"plority\",y=\"count\",kind=\"bar\")"
   ]
  }
 ],
 "metadata": {
  "kernelspec": {
   "display_name": "Python 3",
   "language": "python",
   "name": "python3"
  },
  "language_info": {
   "codemirror_mode": {
    "name": "ipython",
    "version": 3
   },
   "file_extension": ".py",
   "mimetype": "text/x-python",
   "name": "python",
   "nbconvert_exporter": "python",
   "pygments_lexer": "ipython3",
   "version": "3.6.0"
  },
  "toc": {
   "nav_menu": {},
   "number_sections": true,
   "sideBar": true,
   "skip_h1_title": false,
   "toc_cell": false,
   "toc_position": {},
   "toc_section_display": "block",
   "toc_window_display": false
  }
 },
 "nbformat": 4,
 "nbformat_minor": 2
}
