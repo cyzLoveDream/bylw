{
 "cells": [
  {
   "cell_type": "code",
   "execution_count": 88,
   "metadata": {
    "collapsed": true
   },
   "outputs": [],
   "source": [
    "import pandas as pd\n",
    "import numpy as np\n",
    "from cpca import *\n"
   ]
  },
  {
   "cell_type": "code",
   "execution_count": 123,
   "metadata": {
    "collapsed": true
   },
   "outputs": [],
   "source": [
    "%matplotlib inline"
   ]
  },
  {
   "cell_type": "code",
   "execution_count": 89,
   "metadata": {
    "collapsed": true
   },
   "outputs": [],
   "source": [
    "d = []\n",
    "with open(\"../raw_data/DATA_T_RESULT.txt\",\"r\",encoding=\"utf-8\") as fs:\n",
    "    lines = fs.readlines()\n",
    "    for line in lines:\n",
    "        d.append(eval(str(line)))\n",
    "pd_data = pd.DataFrame()\n",
    "for i in d:\n",
    "    i_pd = pd.DataFrame(i.get(\"entities\"))\n",
    "    pd_data = pd.concat([pd_data, i_pd],axis=0,ignore_index=True)"
   ]
  },
  {
   "cell_type": "code",
   "execution_count": 90,
   "metadata": {
    "collapsed": false
   },
   "outputs": [
    {
     "data": {
      "text/html": [
       "<div>\n",
       "<style scoped>\n",
       "    .dataframe tbody tr th:only-of-type {\n",
       "        vertical-align: middle;\n",
       "    }\n",
       "\n",
       "    .dataframe tbody tr th {\n",
       "        vertical-align: top;\n",
       "    }\n",
       "\n",
       "    .dataframe thead th {\n",
       "        text-align: right;\n",
       "    }\n",
       "</style>\n",
       "<table border=\"1\" class=\"dataframe\">\n",
       "  <thead>\n",
       "    <tr style=\"text-align: right;\">\n",
       "      <th></th>\n",
       "      <th>digest</th>\n",
       "      <th>eventLevel</th>\n",
       "      <th>keywords</th>\n",
       "      <th>name</th>\n",
       "    </tr>\n",
       "  </thead>\n",
       "  <tbody>\n",
       "    <tr>\n",
       "      <th>0</th>\n",
       "      <td>上海市食品药品监督管理局抽检8大类食品，抽检样品共计1107批次，其中合格1103批次、不合...</td>\n",
       "      <td>中性</td>\n",
       "      <td></td>\n",
       "      <td>上海市食品药品监督管理局</td>\n",
       "    </tr>\n",
       "    <tr>\n",
       "      <th>1</th>\n",
       "      <td>中国质量新闻网讯 据成都市工商行政管理局官网发布的2017年二季度学生用品质量抽检结果，“金...</td>\n",
       "      <td>负向</td>\n",
       "      <td></td>\n",
       "      <td>汕头市潮南区峡山万年星文具厂</td>\n",
       "    </tr>\n",
       "    <tr>\n",
       "      <th>2</th>\n",
       "      <td>中国质量新闻网讯 据成都市工商行政管理局官网发布的2017年二季度学生用品质量抽检结果，“金...</td>\n",
       "      <td>负向</td>\n",
       "      <td></td>\n",
       "      <td>浙江金丝猴文具有限公司</td>\n",
       "    </tr>\n",
       "    <tr>\n",
       "      <th>3</th>\n",
       "      <td>中国网财经8月2日讯 唐山市食品药品监督管理局官网近日发布关于河北省食品安全监督抽检(唐...</td>\n",
       "      <td>负向</td>\n",
       "      <td></td>\n",
       "      <td>唐山乡伊香生态农业开发有限公司</td>\n",
       "    </tr>\n",
       "    <tr>\n",
       "      <th>4</th>\n",
       "      <td>中国网财经8月2日讯 唐山市食品药品监督管理局官网近日发布关于河北省食品安全监督抽检信息的公...</td>\n",
       "      <td>中性</td>\n",
       "      <td></td>\n",
       "      <td>唐山市食品药品监督管理局</td>\n",
       "    </tr>\n",
       "  </tbody>\n",
       "</table>\n",
       "</div>"
      ],
      "text/plain": [
       "                                              digest eventLevel keywords  \\\n",
       "0  上海市食品药品监督管理局抽检8大类食品，抽检样品共计1107批次，其中合格1103批次、不合...         中性            \n",
       "1  中国质量新闻网讯 据成都市工商行政管理局官网发布的2017年二季度学生用品质量抽检结果，“金...         负向            \n",
       "2  中国质量新闻网讯 据成都市工商行政管理局官网发布的2017年二季度学生用品质量抽检结果，“金...         负向            \n",
       "3  　　中国网财经8月2日讯 唐山市食品药品监督管理局官网近日发布关于河北省食品安全监督抽检(唐...         负向            \n",
       "4  中国网财经8月2日讯 唐山市食品药品监督管理局官网近日发布关于河北省食品安全监督抽检信息的公...         中性            \n",
       "\n",
       "              name  \n",
       "0     上海市食品药品监督管理局  \n",
       "1   汕头市潮南区峡山万年星文具厂  \n",
       "2      浙江金丝猴文具有限公司  \n",
       "3  唐山乡伊香生态农业开发有限公司  \n",
       "4     唐山市食品药品监督管理局  "
      ]
     },
     "execution_count": 90,
     "metadata": {},
     "output_type": "execute_result"
    }
   ],
   "source": [
    "pd_data.head()"
   ]
  },
  {
   "cell_type": "code",
   "execution_count": 91,
   "metadata": {
    "collapsed": false
   },
   "outputs": [],
   "source": [
    "names_list = pd_data[\"name\"].tolist()"
   ]
  },
  {
   "cell_type": "code",
   "execution_count": 92,
   "metadata": {
    "collapsed": false
   },
   "outputs": [
    {
     "name": "stderr",
     "output_type": "stream",
     "text": [
      "WARNING:root:建议添加到umap中的区有：{'郊区', '西安区', '城关区', '清河区', '和平区', '矿区', '东山区', '新华区', '鼓楼区', '城区', '市中区'},有多个市含有相同名称的区\n"
     ]
    }
   ],
   "source": [
    "df = transform(names_list,cut=False)"
   ]
  },
  {
   "cell_type": "code",
   "execution_count": 93,
   "metadata": {
    "collapsed": false
   },
   "outputs": [
    {
     "data": {
      "text/html": [
       "<div>\n",
       "<style scoped>\n",
       "    .dataframe tbody tr th:only-of-type {\n",
       "        vertical-align: middle;\n",
       "    }\n",
       "\n",
       "    .dataframe tbody tr th {\n",
       "        vertical-align: top;\n",
       "    }\n",
       "\n",
       "    .dataframe thead th {\n",
       "        text-align: right;\n",
       "    }\n",
       "</style>\n",
       "<table border=\"1\" class=\"dataframe\">\n",
       "  <thead>\n",
       "    <tr style=\"text-align: right;\">\n",
       "      <th></th>\n",
       "      <th>区</th>\n",
       "      <th>市</th>\n",
       "      <th>省</th>\n",
       "      <th>地址</th>\n",
       "    </tr>\n",
       "  </thead>\n",
       "  <tbody>\n",
       "    <tr>\n",
       "      <th>0</th>\n",
       "      <td></td>\n",
       "      <td>上海市</td>\n",
       "      <td>上海市</td>\n",
       "      <td>食品药品监督管理局</td>\n",
       "    </tr>\n",
       "    <tr>\n",
       "      <th>1</th>\n",
       "      <td>潮南区</td>\n",
       "      <td>汕头市</td>\n",
       "      <td>广东省</td>\n",
       "      <td>峡山万年星文具厂</td>\n",
       "    </tr>\n",
       "    <tr>\n",
       "      <th>2</th>\n",
       "      <td></td>\n",
       "      <td></td>\n",
       "      <td>浙江省</td>\n",
       "      <td>金丝猴文具有限公司</td>\n",
       "    </tr>\n",
       "    <tr>\n",
       "      <th>3</th>\n",
       "      <td></td>\n",
       "      <td>唐山市</td>\n",
       "      <td>河北省</td>\n",
       "      <td>乡伊香生态农业开发有限公司</td>\n",
       "    </tr>\n",
       "    <tr>\n",
       "      <th>4</th>\n",
       "      <td></td>\n",
       "      <td>唐山市</td>\n",
       "      <td>河北省</td>\n",
       "      <td>食品药品监督管理局</td>\n",
       "    </tr>\n",
       "  </tbody>\n",
       "</table>\n",
       "</div>"
      ],
      "text/plain": [
       "     区    市    省             地址\n",
       "0       上海市  上海市      食品药品监督管理局\n",
       "1  潮南区  汕头市  广东省       峡山万年星文具厂\n",
       "2            浙江省      金丝猴文具有限公司\n",
       "3       唐山市  河北省  乡伊香生态农业开发有限公司\n",
       "4       唐山市  河北省      食品药品监督管理局"
      ]
     },
     "execution_count": 93,
     "metadata": {},
     "output_type": "execute_result"
    }
   ],
   "source": [
    "df.head()"
   ]
  },
  {
   "cell_type": "code",
   "execution_count": 94,
   "metadata": {
    "collapsed": true
   },
   "outputs": [],
   "source": [
    "df.replace(\"\",\"无法确定\",inplace=True)\n",
    "df.replace(\"内蒙古\",\"内蒙古自治区\",inplace=True)\n",
    "df.replace(\"新疆维吾尔自治区\",\"新疆维吾尔族自治区\",inplace=True)"
   ]
  },
  {
   "cell_type": "code",
   "execution_count": 95,
   "metadata": {
    "collapsed": false
   },
   "outputs": [],
   "source": [
    "from cpca_drawers import *\n",
    "draw_locations(df, \"df.html\")"
   ]
  },
  {
   "cell_type": "code",
   "execution_count": 96,
   "metadata": {
    "collapsed": false
   },
   "outputs": [],
   "source": [
    "plot_df = df.groupby(\"省\").count().reset_index()"
   ]
  },
  {
   "cell_type": "code",
   "execution_count": 97,
   "metadata": {
    "collapsed": false
   },
   "outputs": [],
   "source": [
    "plot_df[\"count\"] = plot_df[\"区\"]"
   ]
  },
  {
   "cell_type": "code",
   "execution_count": 98,
   "metadata": {
    "collapsed": false
   },
   "outputs": [],
   "source": [
    "mp = {\"上海市\": \"华东\",\"江苏省\":\"华东\",\"浙江省\":\"华东\",\"安徽省\":\"华东\",\"福建省\":\"华东\",\"江西省\":\"华东\",\"山东省\":\"华东\",\"台湾省\":\"华东\",\n",
    "     \"广东省\":\"华南\",\"广西省\":\"华南\",\"海南省\":\"华南\",\"香港\":\"华南\",\"澳门特区\":\"华南\",\"广西壮族自治区\":\"华南\",\n",
    "     \"河北省\":\"华北\",\"山西省\":\"华北\",\"北京市\":\"华北\",\"天津市\":\"华北\",\"内蒙古\":\"华北\",\"内蒙古自治区\":\"华北\",\n",
    "     \"湖北省\":\"华中\",\"湖南省\":\"华中\",\"河南省\":\"华中\",\n",
    "     \"辽宁省\":\"东北\",\"吉林省\":\"东北\",\"黑龙江省\":\"东北\",\n",
    "     \"四川省\":\"西南\",\"云南省\":\"西南\",\"贵州省\":\"西南\",\"重庆市\":\"西南\",\"西藏自治区\":\"西南\",\n",
    "     \"宁夏回族自治区\":\"西北\",\"新疆维吾尔族自治区\":\"西北\",\"新疆维吾尔自治区\":\"西北\",\"青海省\":\"西北\",\"陕西省\":\"西北\",\"甘肃省\":\"西北\",\n",
    "     \"无法确定\":\"无法确定\"}"
   ]
  },
  {
   "cell_type": "code",
   "execution_count": 99,
   "metadata": {
    "collapsed": false
   },
   "outputs": [
    {
     "data": {
      "text/html": [
       "<div>\n",
       "<style scoped>\n",
       "    .dataframe tbody tr th:only-of-type {\n",
       "        vertical-align: middle;\n",
       "    }\n",
       "\n",
       "    .dataframe tbody tr th {\n",
       "        vertical-align: top;\n",
       "    }\n",
       "\n",
       "    .dataframe thead th {\n",
       "        text-align: right;\n",
       "    }\n",
       "</style>\n",
       "<table border=\"1\" class=\"dataframe\">\n",
       "  <thead>\n",
       "    <tr style=\"text-align: right;\">\n",
       "      <th></th>\n",
       "      <th>省</th>\n",
       "      <th>区</th>\n",
       "      <th>市</th>\n",
       "      <th>地址</th>\n",
       "      <th>count</th>\n",
       "    </tr>\n",
       "  </thead>\n",
       "  <tbody>\n",
       "    <tr>\n",
       "      <th>0</th>\n",
       "      <td>上海市</td>\n",
       "      <td>577</td>\n",
       "      <td>577</td>\n",
       "      <td>577</td>\n",
       "      <td>577</td>\n",
       "    </tr>\n",
       "    <tr>\n",
       "      <th>1</th>\n",
       "      <td>云南省</td>\n",
       "      <td>436</td>\n",
       "      <td>436</td>\n",
       "      <td>436</td>\n",
       "      <td>436</td>\n",
       "    </tr>\n",
       "    <tr>\n",
       "      <th>2</th>\n",
       "      <td>内蒙古自治区</td>\n",
       "      <td>139</td>\n",
       "      <td>139</td>\n",
       "      <td>139</td>\n",
       "      <td>139</td>\n",
       "    </tr>\n",
       "    <tr>\n",
       "      <th>3</th>\n",
       "      <td>北京市</td>\n",
       "      <td>255</td>\n",
       "      <td>255</td>\n",
       "      <td>255</td>\n",
       "      <td>255</td>\n",
       "    </tr>\n",
       "    <tr>\n",
       "      <th>4</th>\n",
       "      <td>吉林省</td>\n",
       "      <td>326</td>\n",
       "      <td>326</td>\n",
       "      <td>326</td>\n",
       "      <td>326</td>\n",
       "    </tr>\n",
       "  </tbody>\n",
       "</table>\n",
       "</div>"
      ],
      "text/plain": [
       "        省    区    市   地址  count\n",
       "0     上海市  577  577  577    577\n",
       "1     云南省  436  436  436    436\n",
       "2  内蒙古自治区  139  139  139    139\n",
       "3     北京市  255  255  255    255\n",
       "4     吉林省  326  326  326    326"
      ]
     },
     "execution_count": 99,
     "metadata": {},
     "output_type": "execute_result"
    }
   ],
   "source": [
    "plot_df.head()"
   ]
  },
  {
   "cell_type": "code",
   "execution_count": 100,
   "metadata": {
    "collapsed": false
   },
   "outputs": [
    {
     "data": {
      "text/plain": [
       "14109"
      ]
     },
     "execution_count": 100,
     "metadata": {},
     "output_type": "execute_result"
    }
   ],
   "source": [
    "sum(plot_df[\"count\"].tolist())"
   ]
  },
  {
   "cell_type": "code",
   "execution_count": 124,
   "metadata": {
    "collapsed": false
   },
   "outputs": [
    {
     "data": {
      "text/plain": [
       "<matplotlib.axes._subplots.AxesSubplot at 0x1aa926e6550>"
      ]
     },
     "execution_count": 124,
     "metadata": {},
     "output_type": "execute_result"
    },
    {
     "data": {
      "image/png": "[encoded data removed]",
      "text/plain": [
       "<matplotlib.figure.Figure at 0x1aa8647cfd0>"
      ]
     },
     "metadata": {},
     "output_type": "display_data"
    }
   ],
   "source": [
    "plot_df[\"地理区\"] = plot_df[\"省\"].apply(lambda x: mp.get(x))\n",
    "pd_plot_df = plot_df[[\"地理区\",\"count\"]].groupby(\"地理区\").sum().reset_index()\n",
    "pd_plot_df.plot(x=\"地理区\",y=\"count\",kind=\"bar\",title=\"数据集中所涉及公司在全国范围上的地理区分布\")"
   ]
  },
  {
   "cell_type": "code",
   "execution_count": 117,
   "metadata": {
    "collapsed": false
   },
   "outputs": [],
   "source": [
    "#DataFrame来绘制我们的单词向量\n",
    "import matplotlib\n",
    "import matplotlib.pyplot as plt\n",
    "import seaborn as sns\n",
    "from pylab import mpl\n",
    "mpl.rcParams['font.sans-serif'] = ['SimHei']  # 指定默认字体：解决plot不能显示中文问题,否则会显示成方块\n",
    "mpl.rcParams['axes.unicode_minus'] = False  # 解决保存图像是负号'-'显示为方块的问题"
   ]
  },
  {
   "cell_type": "code",
   "execution_count": 118,
   "metadata": {
    "collapsed": false
   },
   "outputs": [
    {
     "data": {
      "text/plain": [
       "<matplotlib.axes._subplots.AxesSubplot at 0x1aa920dd400>"
      ]
     },
     "execution_count": 118,
     "metadata": {},
     "output_type": "execute_result"
    },
    {
     "data": {
      "image/png": "[encoded data removed]",
      "text/plain": [
       "<matplotlib.figure.Figure at 0x1aa9394c080>"
      ]
     },
     "metadata": {},
     "output_type": "display_data"
    }
   ],
   "source": [
    "plot_df = plot_df[~plot_df[\"省\"].str.contains(\"确定\")]\n",
    "plot_df.sort_values(\"count\",inplace=True,ascending=False)\n",
    "plot_df.plot(x=\"省\",y=\"count\",kind=\"bar\",title=\"数据集中所涉及公司在全国范围内省份分布情况\")"
   ]
  },
  {
   "cell_type": "code",
   "execution_count": 139,
   "metadata": {
    "collapsed": true
   },
   "outputs": [],
   "source": [
    "raw_plot_df = pd.DataFrame({\n",
    "    \"省\":[\"广东省\",\"浙江省\",\"江苏省\",\"上海市\",\"山东省\",\"北京市\",\"河北省\",\"福建省\",\"河南省\",\"辽宁省\",\"湖南省\",\n",
    "        \"湖北省\",\"四川省\",\"安徽省\",\"天津市\",\"陕西省\",\"江西省\",\"广西壮族自治区\",\"山西省\",\"重庆市\",\"香港\",\"黑龙江省\",\n",
    "        \"云南省\",\"吉林省\",\"海南省\",\"贵州省\",\"内蒙古自治区\",\"新疆维吾尔族自治区\",\"甘肃省\",\"青海省\",\"宁夏回族自治区\",\n",
    "        \"西藏自治区\"],\n",
    "    \"count\":[1273956,517542,396321,369179,328903,269549,210444,163095,147150,124159,92976,\n",
    "             110864,104957,78561,75086,74621,67659,59156,58500,52696,50654,45107,38562,34486,32702,22893,\n",
    "            26762,21241,19372,9664,8987,2915]\n",
    "})"
   ]
  },
  {
   "cell_type": "code",
   "execution_count": 140,
   "metadata": {
    "collapsed": false
   },
   "outputs": [],
   "source": [
    "new_plot_df = pd.DataFrame({\n",
    "    \"省\":['山东省','江苏省','浙江省','广东省','安徽省','上海市','山西省','四川省','湖北省','辽宁省','云南省','甘肃省',\n",
    "         '天津市','福建省','河南省','黑龙江省','陕西省','吉林省','河北省','湖南省','北京市','广西壮族自治区','贵州省',\n",
    "         '江西省','新疆维吾尔族自治区', '内蒙古自治区','宁夏回族自治区','重庆市','青海省','海南省','西藏自治区','香港'],\n",
    "    \"count\":[1460,949,826,718,645,577,564,499,460,446,436,423,395,383,344,342,341,326,274,263,255,\n",
    "             247,237,173,143,139,138,93,58,13,8,1]\n",
    "})"
   ]
  },
  {
   "cell_type": "code",
   "execution_count": 142,
   "metadata": {
    "collapsed": false
   },
   "outputs": [],
   "source": [
    "raw_new = raw_plot_df.merge(new_plot_df, how=\"left\",on=\"省\")\n",
    "raw_new[\"rate\"] = raw_new[\"count_x\"] / sum(raw_new[\"count_x\"].tolist())\n",
    "raw_new[\"new_count\"] = 14109 * raw_new[\"rate\"]\n",
    "raw_new[\"count\"] = raw_new[\"new_count\"].astype(np.int)"
   ]
  },
  {
   "cell_type": "code",
   "execution_count": 162,
   "metadata": {
    "collapsed": false
   },
   "outputs": [],
   "source": [
    "raw_new.sort_values(\"rate\",inplace=True,ascending=False)"
   ]
  },
  {
   "cell_type": "code",
   "execution_count": 169,
   "metadata": {
    "collapsed": false
   },
   "outputs": [],
   "source": [
    "raw_new_count = raw_new[[\"count\"]]"
   ]
  },
  {
   "cell_type": "code",
   "execution_count": 170,
   "metadata": {
    "collapsed": false
   },
   "outputs": [],
   "source": [
    "p = 1.0*raw_new_count.cumsum()/raw_new_count.sum()"
   ]
  },
  {
   "cell_type": "code",
   "execution_count": 172,
   "metadata": {
    "collapsed": false
   },
   "outputs": [],
   "source": [
    "p[\"省\"] = raw_new[\"省\"]"
   ]
  },
  {
   "cell_type": "code",
   "execution_count": 174,
   "metadata": {
    "collapsed": false
   },
   "outputs": [],
   "source": [
    "p[[\"省\",\"count\"]].to_excel(\"E:\\\\硕士毕业论文\\\\图表\\\\lei.xlsx\")"
   ]
  },
  {
   "cell_type": "code",
   "execution_count": 146,
   "metadata": {
    "collapsed": false
   },
   "outputs": [],
   "source": [
    "raw_new[[\"省\",\"count\"]].to_excel(\"E:\\\\硕士毕业论文\\\\图表\\\\new_plot.xlsx\")\n",
    "raw_new[[\"省\",\"count_x\"]].to_excel(\"E:\\\\硕士毕业论文\\\\图表\\\\raw_plot.xlsx\")"
   ]
  },
  {
   "cell_type": "code",
   "execution_count": 119,
   "metadata": {
    "collapsed": false
   },
   "outputs": [
    {
     "data": {
      "text/plain": [
       "<matplotlib.axes._subplots.AxesSubplot at 0x1aa923fe5c0>"
      ]
     },
     "execution_count": 119,
     "metadata": {},
     "output_type": "execute_result"
    },
    {
     "data": {
      "image/png": "[encoded data removed]",
      "text/plain": [
       "<matplotlib.figure.Figure at 0x1aa93b609b0>"
      ]
     },
     "metadata": {},
     "output_type": "display_data"
    }
   ],
   "source": [
    "new_plot_df.sort_values(\"count\",inplace=True,ascending=False)\n",
    "new_plot_df.plot(x=\"省\",y=\"count\",kind=\"bar\",title=\"数据集中所涉及公司在全国范围内省份分布情况\",figsize=(10,8))"
   ]
  },
  {
   "cell_type": "code",
   "execution_count": 152,
   "metadata": {
    "collapsed": false
   },
   "outputs": [
    {
     "data": {
      "text/plain": [
       "<matplotlib.axes._subplots.AxesSubplot at 0x1aa94709f98>"
      ]
     },
     "execution_count": 152,
     "metadata": {},
     "output_type": "execute_result"
    },
    {
     "data": {
      "image/png": "[encoded data removed]",
      "text/plain": [
       "<matplotlib.figure.Figure at 0x1aa946ba358>"
      ]
     },
     "metadata": {},
     "output_type": "display_data"
    }
   ],
   "source": [
    "raw_new[\"地理区\"] = raw_new[\"省\"].apply(lambda x: mp.get(x))\n",
    "pd_plot_df = raw_new[[\"地理区\",\"count\"]].groupby(\"地理区\").sum().reset_index()\n",
    "pd_plot_df.sort_values(\"count\",inplace=True,ascending=True)\n",
    "pd_plot_df.plot(x=\"地理区\",y=\"count\",kind=\"bar\",title=\"数据集中所涉及公司在全国范围上的地理区分布\")"
   ]
  },
  {
   "cell_type": "code",
   "execution_count": 154,
   "metadata": {
    "collapsed": false
   },
   "outputs": [],
   "source": [
    "pd_plot_df.to_excel(\"E:\\\\硕士毕业论文\\\\图表\\\\daqu.xlsx\")"
   ]
  },
  {
   "cell_type": "code",
   "execution_count": 121,
   "metadata": {
    "collapsed": false
   },
   "outputs": [
    {
     "data": {
      "text/plain": [
       "<matplotlib.axes._subplots.AxesSubplot at 0x1aa84e86cc0>"
      ]
     },
     "execution_count": 121,
     "metadata": {},
     "output_type": "execute_result"
    },
    {
     "data": {
      "image/png": "[encoded data removed]",
      "text/plain": [
       "<matplotlib.figure.Figure at 0x1aa941986a0>"
      ]
     },
     "metadata": {},
     "output_type": "display_data"
    }
   ],
   "source": [
    "raw_plot_df.sort_values(\"count\",inplace=True,ascending=False)\n",
    "raw_plot_df.plot(x=\"省\",y=\"count\",kind=\"bar\",title=\"数据集中所涉及公司在全国范围内省份分布情况\",figsize=(10,8))"
   ]
  },
  {
   "cell_type": "code",
   "execution_count": 111,
   "metadata": {
    "collapsed": false
   },
   "outputs": [],
   "source": [
    "sentiment_data = pd_data.groupby(\"eventLevel\").count().reset_index()\n",
    "sentiment_data[\"count\"] = sentiment_data[\"name\"]\n",
    "sentiment_data[\"plority\"] = sentiment_data[\"eventLevel\"]\n",
    "sentiment_data = sentiment_data[[\"plority\",\"count\"]]"
   ]
  },
  {
   "cell_type": "code",
   "execution_count": 147,
   "metadata": {
    "collapsed": true
   },
   "outputs": [],
   "source": [
    "sentiment_data.to_excel(\"E:\\\\硕士毕业论文\\\\图表\\\\sen_data.xlsx\")"
   ]
  },
  {
   "cell_type": "code",
   "execution_count": 112,
   "metadata": {
    "collapsed": false
   },
   "outputs": [
    {
     "data": {
      "text/html": [
       "<div>\n",
       "<style scoped>\n",
       "    .dataframe tbody tr th:only-of-type {\n",
       "        vertical-align: middle;\n",
       "    }\n",
       "\n",
       "    .dataframe tbody tr th {\n",
       "        vertical-align: top;\n",
       "    }\n",
       "\n",
       "    .dataframe thead th {\n",
       "        text-align: right;\n",
       "    }\n",
       "</style>\n",
       "<table border=\"1\" class=\"dataframe\">\n",
       "  <thead>\n",
       "    <tr style=\"text-align: right;\">\n",
       "      <th></th>\n",
       "      <th>plority</th>\n",
       "      <th>count</th>\n",
       "    </tr>\n",
       "  </thead>\n",
       "  <tbody>\n",
       "    <tr>\n",
       "      <th>0</th>\n",
       "      <td>中性</td>\n",
       "      <td>2698</td>\n",
       "    </tr>\n",
       "    <tr>\n",
       "      <th>1</th>\n",
       "      <td>正向</td>\n",
       "      <td>4776</td>\n",
       "    </tr>\n",
       "    <tr>\n",
       "      <th>2</th>\n",
       "      <td>负向</td>\n",
       "      <td>6667</td>\n",
       "    </tr>\n",
       "  </tbody>\n",
       "</table>\n",
       "</div>"
      ],
      "text/plain": [
       "  plority  count\n",
       "0      中性   2698\n",
       "1      正向   4776\n",
       "2      负向   6667"
      ]
     },
     "execution_count": 112,
     "metadata": {},
     "output_type": "execute_result"
    }
   ],
   "source": [
    "sentiment_data"
   ]
  },
  {
   "cell_type": "code",
   "execution_count": 122,
   "metadata": {
    "collapsed": false
   },
   "outputs": [
    {
     "data": {
      "text/plain": [
       "<matplotlib.axes._subplots.AxesSubplot at 0x1aa91d6e9b0>"
      ]
     },
     "execution_count": 122,
     "metadata": {},
     "output_type": "execute_result"
    },
    {
     "data": {
      "image/png": "[encoded data removed]",
      "text/plain": [
       "<matplotlib.figure.Figure at 0x1aa84e86f28>"
      ]
     },
     "metadata": {},
     "output_type": "display_data"
    }
   ],
   "source": [
    "sentiment_data.plot(x=\"plority\",y=\"count\",kind=\"bar\")"
   ]
  }
 ],
 "metadata": {
  "kernelspec": {
   "display_name": "Python 3",
   "language": "python",
   "name": "python3"
  },
  "language_info": {
   "codemirror_mode": {
    "name": "ipython",
    "version": 3
   },
   "file_extension": ".py",
   "mimetype": "text/x-python",
   "name": "python",
   "nbconvert_exporter": "python",
   "pygments_lexer": "ipython3",
   "version": "3.6.0"
  },
  "toc": {
   "nav_menu": {},
   "number_sections": true,
   "sideBar": true,
   "skip_h1_title": false,
   "toc_cell": false,
   "toc_position": {},
   "toc_section_display": "block",
   "toc_window_display": false
  }
 },
 "nbformat": 4,
 "nbformat_minor": 2
}
